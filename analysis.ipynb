{
 "cells": [
  {
   "metadata": {},
   "cell_type": "markdown",
   "source": [
    "# Exploratory Data Analysis\n",
    "\n",
    "Exploratory Data Analysis (EDA) is a critical step in the data science process, focusing on summarizing, visualizing, and understanding the underlying structure of a dataset before formal modeling. EDA involves statistical techniques and visualization tools like histograms, scatter plots, box plots, and correlation matrices to uncover patterns, spot anomalies, test assumptions, and check for missing data. This iterative process helps form hypotheses, guide feature selection, and inform modeling strategies. EDA is valuable because it enables data scientists to address data quality issues, identify key variables, and gain insights that might otherwise remain hidden.\n",
    "\n",
    "Consider a dataset containing housing prices and various features like size, location, and number of bedrooms. Through EDA, we might discover that location and size have a strong correlation with price, while the number of bedrooms shows no significant influence. Without EDA, these relationships might be overlooked, leading to suboptimal model performance or incorrect conclusions.\n",
    "\n",
    "In this notebook we will make use of the technique to unravel sociological and economical characteristics of countries, discover relationships between popular metrics and see what real-life consequences do they induce. But before we get ahead of ourselves, we first need data on which EDA analysis will be conducted. For this I chose the following datasets."
   ],
   "id": "8e046e9a1eaecd6d"
  },
  {
   "metadata": {},
   "cell_type": "markdown",
   "source": [
    "___________________________________________\n",
    "\n",
    "## Datasets\n",
    "\n",
    "### Countries of the World\n",
    "The dataset is provided by the US government, and is open source inside the US. Use outside the US necessitates approval from the government, but if acquired from World [Factbook](https://www.cia.gov/the-world-factbook/), then is public domain. The dataset can be downloaded from the following link: https://www.kaggle.com/datasets/fernandol/countries-of-the-world/data"
   ],
   "id": "8a77807f92f26ee"
  },
  {
   "metadata": {
    "jupyter": {
     "is_executing": true
    }
   },
   "cell_type": "code",
   "source": [
    "import pandas as pd\n",
    "\n",
    "# Load Countries of the World (CW) from file\n",
    "cw = pd.read_csv('data/countries.csv')\n",
    "\n",
    "# Drop information that we will not use\n",
    "cw = cw.drop(['Coastline', 'Infant mortality', 'Phones', 'Crops', 'Other'], axis=1)\n",
    "    \n",
    "# Create a new column for total GDP by multiplying GDP per capita with population\n",
    "cw['GDP'] = cw['GDP per capita'] * cw['Population']\n",
    "\n",
    "# Visualize dataset\n",
    "cw.head(10)"
   ],
   "id": "874f795d407ad372",
   "outputs": [],
   "execution_count": null
  },
  {
   "metadata": {},
   "cell_type": "markdown",
   "source": [
    "### Global Salary Data\n",
    "\n",
    "The dataset contains a comprehensive salary data collected through web scraping from [SalaryExplorer](https://www.salaryexplorer.com/), a trusted source for salary comparison. The data has been processed and converted to US Dollars (USD). \n",
    "\n",
    "The dataset convers a wide range of salary statistics (namely average, median, lowest and highest salaries), for various countries worldwide. It offers potential for the following use cases:\n",
    "\n",
    "- **Salary Analysis:** Explore salary trends, disparities, and variations across countries, industries, and job roles. Identify countries with the highest average salaries or those with competitive salary offerings.\n",
    "\n",
    "- **Statistical Research:** by conducting statistical analyses to gain insights into salary distributions, standard deviations, and outliers. Such example is exploring income inequality, or exploring relationships between regions and economic factors.\n",
    "\n",
    "- **Data Visualization:** by creating informative charts, graphs, and maps to visually represent salary data in an engaging and comprehensible manner.\n",
    "\n",
    "Link to dataset: https://www.kaggle.com/datasets/fernandol/countries-of-the-world/data"
   ],
   "id": "7bad42a256e8369f"
  },
  {
   "metadata": {
    "jupyter": {
     "is_executing": true
    }
   },
   "cell_type": "code",
   "source": [
    "import pandas as pd\n",
    "\n",
    "# Load Global Salaries Data (GSD) from file\n",
    "gsd = pd.read_csv('data/salary_data.csv')\n",
    "gsd.drop('wage_span', axis=1, inplace=True)\n",
    "\n",
    "# Where is the lowest salary in the world\n",
    "print(gsd[gsd['lowest_salary'] == gsd['lowest_salary'].min()]['Country'])\n",
    "\n",
    "# Where is the highest salary in the world\n",
    "print(gsd[gsd['highest_salary'] == gsd['highest_salary'].max()]['Country'])\n",
    "\n",
    "# Visualize dataset\n",
    "gsd.head(10)"
   ],
   "id": "50687e3c17ea31c8",
   "outputs": [],
   "execution_count": null
  },
  {
   "metadata": {},
   "cell_type": "markdown",
   "source": [
    "\n",
    "\n",
    "\n",
    "\n",
    "### Salary by Job Title and Country\n",
    "\n",
    "This dataset provides a comprehensive collection of salary information from various industries and regions across the globe. Sourced from reputable employment websites and surveys, it includes details on *job titles, salaries, job sectors, geographic locations*, and more. By analysing this data, we may gain insight into **job market trends**, compare compensation across different professions, and inform ourselves about career strategies. The dataset was cleaned and preprocessed for ease of analysis and is available under an open license for research and data analysis purposes.\n",
    "\n",
    "Link to the dataset: https://www.kaggle.com/datasets/amirmahdiabbootalebi/salary-by-job-title-and-country?select=Salary_Data_Based_country_and_race.csv"
   ],
   "id": "d61c6b32ebebd7ae"
  },
  {
   "metadata": {
    "jupyter": {
     "is_executing": true
    }
   },
   "cell_type": "code",
   "source": [
    "import pandas as pd\n",
    "\n",
    "# Load Salary by Job Title and Country (SJTC) from file\n",
    "sjtc = pd.read_csv('data/salary_samples.csv', index_col=0)\n",
    "\n",
    "# Show sample for each data\n",
    "sjtc.head(10)"
   ],
   "id": "fbc121e30a2defb3",
   "outputs": [],
   "execution_count": null
  },
  {
   "metadata": {},
   "cell_type": "markdown",
   "source": [
    "_______________________________________________________\n",
    "\n",
    "## Data Cleaning\n",
    "\n",
    "During *Exploratory Data Analysis*, cleaning the data is a crucial step to ensure that the dataset is accurate, complete and ready for analysis. Data cleaning involves identifying and correcting issues that may influence the insights derived from the data, such as missing values, outliers, inconsistencies, and duplicates. \n",
    "\n",
    "One aspect of data cleaning is identifying and managing **outliers**. Outliers are data points that significantly deviate from the rest of the dataset and can skey statistical analyses. In our case, while outliers represent valid cases, it might alter conclusions drawn. Therefore, they should be excluded during certain surveys. \n",
    "\n",
    "**Inconsistent data** also needs to be addressed during the cleaning process. This refers to discrepancies in data formats, units of measurement, or categorical labels. For example, if a column contains both “USA” and “United States” as values for the country, these need to be standardized. Cleaning inconsistent data helps in making the dataset homogeneous and reliable.\n",
    "\n",
    "Another essential task is removing **duplicate records**. Duplicates can arise due to data entry errors or multiple records representing the same entity. Inconsistent duplicates may lead to misleading results or bias in analysis. Identifying and removing these duplicates ensures that the data represents unique observations.\n",
    "\n",
    "Finally, data **transformation** is sometimes necessary. This includes converting data types and normalizing or scaling numerical features to bring them to comparable ranges. These transformations help to improve the performance of analytical models and ensure that data is in a suitable format for statistical analysis or machine learning algorithms."
   ],
   "id": "5e272cd9ff3cbfdc"
  },
  {
   "metadata": {
    "jupyter": {
     "is_executing": true
    }
   },
   "cell_type": "code",
   "source": [
    "from eda_utils import standard_clean, remove_outliers\n",
    "\n",
    "# First let's drop duplicates\n",
    "cw.drop_duplicates(inplace=True)\n",
    "\n",
    "# Separate numeric and word data types\n",
    "string_columns = ['Country', 'Region']\n",
    "\n",
    "# Perform standard cleaning procedure\n",
    "cw = standard_clean(cw, string_columns)\n",
    "\n",
    "# Drop NaN values\n",
    "cw.dropna(inplace=True)\n",
    "\n",
    "cw.head()"
   ],
   "id": "6fa54845eeb321c0",
   "outputs": [],
   "execution_count": null
  },
  {
   "metadata": {
    "jupyter": {
     "is_executing": true
    }
   },
   "cell_type": "code",
   "source": [
    "from eda_utils import standard_clean\n",
    "\n",
    "# First let's drop duplicates\n",
    "gsd.drop_duplicates(inplace=True)\n",
    "\n",
    "# Rename columns conform to other datasets\n",
    "rename_map = {\"country_name\": \"Country\", 'continent_name': 'Continent', 'median_salary': 'Median', 'average_salary': 'Average', 'lowest_salary':'Lowest', 'highest_salary': 'Highest'}\n",
    "\n",
    "# Separate numeric and word data types\n",
    "string_columns = ['Country', 'Continent']\n",
    "\n",
    "# Perform standard cleaning procedure\n",
    "gsd = standard_clean(gsd, string_columns, rename_map)\n",
    "\n",
    "# Drop NaN values\n",
    "gsd.dropna(inplace=True)\n",
    "\n",
    "gsd.head()"
   ],
   "id": "70d0f3b0abe3e0f3",
   "outputs": [],
   "execution_count": null
  },
  {
   "metadata": {
    "jupyter": {
     "is_executing": true
    }
   },
   "cell_type": "code",
   "source": [
    "from eda_utils import standard_clean\n",
    "\n",
    "# First let's drop duplicates\n",
    "sjtc.drop_duplicates(inplace=True)\n",
    "\n",
    "# Standardize education type\n",
    "sjtc['Education'] = sjtc['Education'].replace(\"Bachelor's Degree\", \"Bachelor's\").replace(\"Master's Degree\", \"Master's\").replace(\"phD\", \"PhD\")\n",
    "\n",
    "# Separate numeric and word data types\n",
    "string_columns = ['Country', 'Gender', 'Education', 'Job', 'Race']\n",
    "\n",
    "# Perform standard cleaning procedure\n",
    "sjtc = standard_clean(sjtc, string_columns)\n",
    "\n",
    "# Drop NaN values\n",
    "sjtc.dropna(inplace=True)\n",
    "\n",
    "sjtc.head()"
   ],
   "id": "604c28cda75aea59",
   "outputs": [],
   "execution_count": null
  },
  {
   "metadata": {},
   "cell_type": "markdown",
   "source": [
    "## Statistic summary\n",
    "\n",
    "As part of the EDA method, we first have to provide a data summery. This entails calculating the *mean, average, lower* and *upper bound* for numerical properties. This is called **anchoring**, creating expectations that make clear instances, that diverge from our expectations.\n",
    "\n",
    "Furthermore, we ought to use visualization tools such as diagrams, so we can undertake statistical analysis on the entire dataset. Using histograms, we will not only discover properties discussed previously, but also report on other, arguably more important features as well such as *standard deviation* and *variance*. We may proceed exploring variables one by one.\n",
    "\n",
    "Let's create a function that plots the distribution of column variables in our dataset. This function will be used in the future, to plot distributions for numerical values."
   ],
   "id": "a26a55c134ad38bb"
  },
  {
   "metadata": {},
   "cell_type": "markdown",
   "source": "### Countries of the World",
   "id": "c94bc334af1e2d8d"
  },
  {
   "metadata": {},
   "cell_type": "code",
   "source": [
    "from eda_utils import plot_distributions_grid\n",
    "\n",
    "# Columns to be plotted\n",
    "columns = ['Population', 'Area', 'GDP per capita', 'GDP', 'Literacy', 'Birthrate', 'Deathrate', 'Industry', 'Service']\n",
    "\n",
    "# Plot distribution of numerical values in the dataset.\n",
    "plot_distributions_grid(cw, columns, layout=(3, 3), bins=20)"
   ],
   "id": "ba096a4ea6872293",
   "outputs": [],
   "execution_count": null
  },
  {
   "metadata": {},
   "cell_type": "markdown",
   "source": [
    "The histograms reveal that most of the numerical properties exhibit positive skewness, indicating that the majority of countries have lower values for these properties, with a few outliers displaying significantly higher values. This skewness is a common characteristic in many real-world datasets, reflecting inherent disparities and uneven distributions.\n",
    "\n",
    "- **Population, Area, GDP, and GDP per Capita**: These variables exhibit strong negative skewness, with long tails towards higher values. This is expected due to the existence of a few countries with exceptionally large populations, vast territories, and high economic output. These outliers significantly influence the shape of the distributions.\n",
    "\n",
    "- **Literacy**: The literacy distribution is positively skewed, as while most countries have high literacy rates, there are still a few with lower rates, contributing to the tail on the right side.\n",
    "\n",
    "- **Birthrate and Deathrate**: Both distributions are negatively skewed, indicating that a few countries have significantly higher birth and death rates compared to the majority. This can be attributed to factors such as healthcare access, economic conditions, and cultural norms.\n",
    "\n",
    "- **Industry and Service**: These variables, representing the contributions of different sectors to GDP, also exhibit positive skewness. This suggests that a few countries have larger industrial and service sectors compared to the majority, reflecting varying levels of economic development and specialization.\n",
    "\n",
    "Note, that altough some variables show very similar structure, this is not infer a correlating relationship between variables. Correlation only occurs if the same countries are located in a similar place in both distributions. Otherwise, a country can be close to the expected value in one distribution, while in another is considered an outlier, while both distributions retain the same structure. \n",
    "\n",
    "In spite of this, comparing shapes of distributions is a first step for assessing a correlating relationship between attributes. Therefore, superposing two distribution curves is often considered as a necessary step during EDA."
   ],
   "id": "7079c2db3a81f782"
  },
  {
   "metadata": {},
   "cell_type": "code",
   "source": [
    "import matplotlib.pyplot as plt\n",
    "import seaborn as sns\n",
    "\n",
    "# Set the style for seaborn\n",
    "sns.set(style=\"whitegrid\")\n",
    "\n",
    "# Define a function to create a bar chart with labels\n",
    "def top_countries(df, column, title, color):\n",
    "    top = df.nlargest(7, column)\n",
    "    plt.figure(figsize=(10, 6))\n",
    "    ax = sns.barplot(data=top, x=column, y='Country', hue=column, palette='muted')\n",
    "    ax.set_title(title, fontsize=16)\n",
    "    ax.set_xlabel(column.replace('_', ' ').title(), fontsize=14)\n",
    "    ax.set_ylabel(\"Country\", fontsize=14)\n",
    "    \n",
    "    # Label each bar with the country's name and value\n",
    "    for i in range(len(top)):\n",
    "        ax.text(top[column].iloc[i] + 0.02, i, f\"{top['Country'].iloc[i]} - {top[column].iloc[i]:,.0f}\", va='center')\n",
    "    plt.show()\n",
    "\n",
    "# Plotting top countries in each category\n",
    "top_countries(cw, 'GDP', 'Top 7 Countries by Total GDP', 'blue')\n",
    "top_countries(cw, 'GDP per capita', 'Top 7 Countries by GDP per Capita', 'green')"
   ],
   "id": "32e063d6618f0b61",
   "outputs": [],
   "execution_count": null
  },
  {
   "metadata": {},
   "cell_type": "markdown",
   "source": [
    "As we can see, at the extremes, GDP and GPD per capita do not correlate. This is because population has a high impact on the countries GPD. For a long time, before the industrial revolution, China had the highest GPD in the world, due to its pure size and population. Nowadays, as we can see countries with less population by orders of magnitude, are rivaling the Asian behemoth.\n",
    "\n",
    "After the industrial revolution, due to the steam engine, physical labor demand plummeted, and the job market shifted into new industries, which were more productive. This gave birth to the GDP per capita metric, since this could measure **how productive the average citizen is** in a country. Higher productiveness equates to more goods produces, which in turn are consumed. Therefore, a **higher GPD per capita correlates with higher standard of living**, as necessities are easily satisfied by goods in the market. Consequently, we can see that the high GPD per capita countries are those known to have a high standard of living as well.\n",
    "\n",
    "So countries, in order to increase their economy, should increase GPD per capita, as well as the population in the country, both of which are hard to influence. So let's see what other properties relate to GPD per capita, that might be easier to influence. We can do this by using a **correlation matrix**.\n",
    "\n",
    "This **correlation matrix** reveals relationships between variables (e.g., GDP per capita, population density, literacy) and can provide insights into how different features of countries relate to each other. Let me know if you need more analysis on specific correlations!"
   ],
   "id": "a6a0efd5284aa7bd"
  },
  {
   "metadata": {},
   "cell_type": "code",
   "source": [
    "import matplotlib.pyplot as plt\n",
    "\n",
    "# Select only numerical columns for correlation matrix\n",
    "numerical_df = cw.select_dtypes(include='number')\n",
    "\n",
    "# Calculate the correlation matrix\n",
    "correlation_matrix = numerical_df.corr()\n",
    "\n",
    "# Set up the matplotlib figure\n",
    "plt.figure(figsize=(12, 8))\n",
    "\n",
    "# Create a heatmap\n",
    "sns.heatmap(correlation_matrix, annot=True, cmap=\"coolwarm\", fmt=\".2f\", linewidths=0.5, cbar_kws={\"shrink\": 0.8})\n",
    "\n",
    "# Customize plot\n",
    "plt.title(\"Correlation Matrix of Countries of the World Dataset\", fontsize=16)\n",
    "plt.xticks(rotation=45, ha='right', fontsize=10)\n",
    "plt.yticks(rotation=0, fontsize=10)\n",
    "plt.tight_layout()\n",
    "\n",
    "# Show plot\n",
    "plt.show()\n",
    "\n",
    "del numerical_df, correlation_matrix"
   ],
   "id": "fbcd9629fdb7252b",
   "outputs": [],
   "execution_count": null
  },
  {
   "metadata": {},
   "cell_type": "markdown",
   "source": [
    "A value of |r| between 0.5 and 0.7 indicates a clear and significant relationship, one variable can reliably predict the other to some extent. The observed correlations in the **Correlation matrix** cna be explained by underlying socio-economic and demographic principles:\n",
    "\n",
    "- **Birth rate - Literacy: (-0.79)** Higher literacy rates are often associated with better access to education, particularly for women. Not having started a family by 16, but instead pursuing higher academical opportunities may delay child bare by 4-10 years, and consequently reduce the number of children in a family, but also increase the gap between generations. Furthermore, educated individuals are more likely to understand and use family planning methods, resulting in lower bright rates.\n",
    "\n",
    "- **Birth rate and GPD per capita (-0.65):** Wealthier countries can afford better healthcare and educational institutions. Better access to healthcare means, that children have better survival changes, hence families are not required to proliferate to uphold the socio-demographic concerns, and shifts towards smaller family norms.\n",
    "\n",
    "- **GPD and Population (0.64):** As discussed, larger populations can contribute to higher GDP due to a bigger workforce and larger markets. Countries with larger populations may have greater economic output due to higher consumption and industrial activity, driving up GDP.\n",
    "\n",
    "- **GPD and area (0.56):** Larger countries often have more natural resources, which can significantly contribute to GDP (e.g., oil, minerals, agriculture)\n",
    "\n",
    "- **GDP per capita and Service (0.55):** High-income countries often have economies dominated by the service sector (e.g., finance, education, healthcare, technology), which is more profitable and productive than agriculture or manufacturing. A strong service industry reflects an advanced economy, where the population is generally wealthier, leading to higher GDP per capita\n",
    "\n",
    "- **GPD per capita and literacy (0.51):** High literacy rates are essential for workforce productivity, innovation, and efficient governance, all of which contribute to higher GDP per capita. Therefore,  countries with high literacy rates are often better developed, providing education and skills that enable individuals to contribute to economic growth.\n",
    "\n",
    "The relationships are not absolute (correlation ≠ causation) but reflect trends consistent with global patterns of development. For example, countries transitioning from agrarian to industrial/service-based economies tend to experience shifts in these variables over time."
   ],
   "id": "27b1c66fe0679c9d"
  },
  {
   "metadata": {},
   "cell_type": "markdown",
   "source": [
    "### Global Salary Data\n",
    "\n",
    "We will use histograms to visualize the distribution of median, average, highest, and lowest salaries across all countries. Each histogram helps visualize the distribution for each salary metric across countries, revealing insights like skewness, outliers, and typical salary ranges."
   ],
   "id": "550e109dc4ac840b"
  },
  {
   "metadata": {},
   "cell_type": "code",
   "source": [
    "import matplotlib.pyplot as plt\n",
    "import seaborn as sns\n",
    "\n",
    "# Set the style for seaborn\n",
    "sns.set(style=\"whitegrid\")\n",
    "\n",
    "# Plot histograms\n",
    "fig, axes = plt.subplots(2, 2, figsize=(14, 10))\n",
    "fig.suptitle('Global Salary Distributions', fontsize=16)\n",
    "\n",
    "# Median Salary Distribution\n",
    "sns.histplot(gsd['Median'], kde=True, ax=axes[0, 0], color='skyblue')\n",
    "axes[0, 0].set_title('Median Salary Distribution')\n",
    "\n",
    "# Average Salary Distribution\n",
    "sns.histplot(gsd['Average'], kde=True, ax=axes[0, 1], color='salmon')\n",
    "axes[0, 1].set_title('Average Salary Distribution')\n",
    "\n",
    "# Highest Salary Distribution\n",
    "sns.histplot(gsd['Highest'], kde=True, ax=axes[1, 0], color='lightgreen')\n",
    "axes[1, 0].set_title('Highest Salary Distribution')\n",
    "\n",
    "# Lowest Salary Distribution\n",
    "sns.histplot(gsd['Lowest'], kde=True, ax=axes[1, 1], color='gold')\n",
    "axes[1, 1].set_title('Lowest Salary Distribution')\n",
    "\n",
    "# Display the plots\n",
    "plt.tight_layout(rect=[0, 0, 1, 0.96])\n",
    "plt.show()"
   ],
   "id": "94fecc77e1f23680",
   "outputs": [],
   "execution_count": null
  },
  {
   "metadata": {},
   "cell_type": "markdown",
   "source": [
    "Contrary to our expectations, a high correlation between GPD per capital and median salary is not observed on the diagrams. While Europe shows a high correlation with low variance, in Asia, Oceania and in the Caribbean, a high variance is shown, while in *South America* no noticeable correlation is observed, due to several factors:\n",
    "\n",
    "- **Sociological Structure**: Socio-Economic status and standard of living of certain demographics does not allow for education, which is shows to correlate with GPD per capita. Without GPD, countries fail to uphold their institutions, leading to economical instability, and lower wages. Despite this certain countries still impose heavy taxation, to pursue their agenda. \n",
    "\n",
    "- **Economic Structure**: The specific economic structure of a country, the level of industrialization and modernization, including the relative importance of different sectors, can influence the relationship between GDP per capita and median salary.\n",
    "\n",
    "In the diagrams above, we can clearly observe that low GPD per capita and median salary countries, referred as poor countries, have higher variance. These data points are referred to as *Third World* countries, and the variance is due to several factors, some of which are:\n",
    "\n",
    "- **Income Inequality**: Countries with lower GDP per capita often have higher levels of income inequality. This means that the gap between the highest and lowest earners is wider, leading to a greater variance in median salaries.\n",
    "\n",
    "- **Economic Volatility**: Countries with lower GDP per capita may be more susceptible to economic shocks, such as natural disasters or political instability. These shocks can lead to significant fluctuations in income levels and, consequently, in median salaries.   \n",
    "\n",
    "- **Diverse Economic Structures**: Countries with lower GDP per capita may have more diverse economic structures, with some sectors experiencing rapid growth while others stagnate. This can lead to significant variation in wages across different sectors.\n",
    "\n",
    "South America in particular has very low correlation between GPD per capita and median wages. Hypothetical reasons could be, that many South American economies are heavily reliant on the primary sector, such as agriculture and mining. While these sectors can generate significant wealth, they often employ a large number of low-skilled workers, leading to lower average wages. \n",
    "\n",
    "Also, significant portion of the South American workforce is employed in the informal economy, where wages are often unregulated and lower than in the formal sector. This can distort the relationship between GDP per capita and median salary.\n",
    "\n",
    "Some countries, such as Chile and Uruguay, have made significant progress in reducing income inequality and improving economic conditions, while others continue to struggle with these challenges."
   ],
   "id": "d48f5cfed80c026c"
  },
  {
   "metadata": {},
   "cell_type": "markdown",
   "source": "## Salary by Job and Title",
   "id": "ea882cb6994196c9"
  },
  {
   "metadata": {},
   "cell_type": "code",
   "source": [
    "from eda_utils import plot_distributions_grid\n",
    "\n",
    "# Columns to be plotted\n",
    "columns = ['Age', 'Years of Experience', 'Salary']\n",
    "\n",
    "# Plot distribution of numerical values in the dataset.\n",
    "plot_distributions_grid(sjtc, columns, layout=(1, 3), bins=10, figsize=(16, 7))"
   ],
   "id": "96f3f28bd7ec799b",
   "outputs": [],
   "execution_count": null
  },
  {
   "metadata": {},
   "cell_type": "markdown",
   "source": [
    "All three distributions exhibit positive skewness, meaning the tail of the distribution extends to the right. This suggests that a majority of individuals in the dataset have lower values for these attributes, with a few outliers having significantly higher values.\n",
    "\n",
    "- **Age**: The distribution of age is positively skewed, with a peak around the age of 30-35. This indicates that a significant portion of the workforce in our dataset is in the early to mid-career stages. The tail extending to the right suggests the presence of older, more experienced individuals.\n",
    "\n",
    "- **Years of Experience**: The distribution of years of experience is also positively skewed, with a peak around 5-10 years. This aligns with the age distribution, indicating that many individuals have 5-10 years of experience in their current roles. The tail extending to the right suggests the presence of highly experienced individuals.\n",
    "\n",
    "- **Salary**: The distribution of salary is positively skewed, with a long tail towards higher salary values. This indicates that a few individuals earn significantly higher salaries compared to the majority. This could be due to factors like seniority, expertise, or role in the organization.\n",
    "\n",
    "In case of a high correlation between **Years of Experience** and **Distribution of Salary**, we ought to observe a similarity in shape between the two distributions. Although similar distribution do not entail high correlation, the opposite is not true, in case of high correlations (>=0.8).\n",
    "\n",
    " "
   ],
   "id": "65fe4ea7f6ee0ccd"
  },
  {
   "metadata": {},
   "cell_type": "code",
   "source": [
    "from eda_utils import plot_group_counts\n",
    "\n",
    "# Columns that represent groups\n",
    "columns = ['Gender', 'Race', 'Education', 'Country']\n",
    "\n",
    "# Plot bar chars to count groups\n",
    "plot_group_counts(sjtc, columns, grid_shape=(2, 2), figsize=(16, 9))"
   ],
   "id": "6b54444f2968b28",
   "outputs": [],
   "execution_count": null
  },
  {
   "metadata": {},
   "cell_type": "markdown",
   "source": [
    "We have now gathered an important insight about our dataset. \n",
    "\n",
    "- **Gender**: There are more males entries than female entries in our dataset. Furthermore, there are a few records labeled 'Other'. Filtering out these records before calculating gender pay gap will be essential. \n",
    "\n",
    "- **Race**: Our dataset has an imbalanced amount of white and asian people.\n",
    "\n",
    "- **Education**: The dataset reflects that in modern countries (or industrialized countries) there are many more skilled people, as education plays an important part in modernization. Whether strong economies can afford education, or education leads to strong economies remains to be seen.\n",
    "\n",
    "- **Country**: This dataset offers data points only for wealthy countries. Here we consider China as wealthy as samples we surveyed only from educational institutions. Therefore, we might encounter biases by taking only a subsample of the population.\n",
    "\n",
    "\n",
    "\n",
    "Non the least, taking into account the Salary distribution above, and the Global Salary Distribution dataset, we might add, that the above countries (UK, USA, Canada, China and Australia), have a very high salaries compared to the world."
   ],
   "id": "b4660eab5b0f1873"
  },
  {
   "metadata": {},
   "cell_type": "code",
   "source": [
    "# Filter out 'Other' gender category\n",
    "sjtc = sjtc[sjtc['Gender'] != 'other']\n",
    "\n",
    "# Define x-axis groupings\n",
    "grouping_columns = ['Gender', 'Race', 'Education', 'Country']\n",
    "\n",
    "# Create 2x2 grid layout for the box plots\n",
    "fig, axes = plt.subplots(2, 2, figsize=(14, 10))\n",
    "axes = axes.flatten()\n",
    "\n",
    "# Plot each box plot in the grid\n",
    "for i, grouping in enumerate(grouping_columns):\n",
    "    sns.boxplot(data=sjtc, x=grouping, y='Salary', ax=axes[i], palette='muted', hue=grouping)\n",
    "    axes[i].set_title(f\"Salary distribution by {grouping}\", fontsize=14)\n",
    "    axes[i].set_xlabel(grouping.title(), fontsize=14)\n",
    "    axes[i].set_ylabel('Salary', fontsize=14)\n",
    "\n",
    "# Adjust layout for better spacing\n",
    "plt.tight_layout()\n",
    "plt.show()\n",
    "\n",
    "del grouping_columns"
   ],
   "id": "e6182f759725ddc5",
   "outputs": [],
   "execution_count": null
  },
  {
   "metadata": {},
   "cell_type": "markdown",
   "source": [
    "The provided violin plots offer valuable insights into the distribution of salaries across various demographic groups.\n",
    "\n",
    "- **Gender**: The plot shows that males have a higher median salary then females, while most of the females gather around the first quartile in their respective distribution. The slight extension of the male distribution towards higher salaries indicates that, on average, males tend to earn slightly more than females.\n",
    "\n",
    "- **Race**: hile some groups exhibit similar salary distributions, others have more distinct patterns. For instance hispanics, like women, tend to peak around the first quartile. We can also see that hispanics in particular have a lower meadian salary. Black, white and asian and korean have similar salaries.\n",
    "\n",
    "- **Education** The salary distribution by education level shows a clear trend: higher levels of education are associated with higher salaries. Individuals with a Ph.D. tend to have the highest median salary, followed by those with a master's degree, bachelor's degree, and finally, high school education.\n",
    "\n",
    "- **Country**: The salary distribution by country reveals significant differences in salary levels across various nations. Individuals from the US and Canada tend to have higher median salaries compared to those from China and Australia."
   ],
   "id": "b244b5cc5560a91c"
  },
  {
   "metadata": {},
   "cell_type": "markdown",
   "source": [
    "----------\n",
    "\n",
    "Here lies an interesting opportunity to explore the **gender pay gap conjecture**. But first we need a strategy on how to calculate accurately. Our objective is to take out of the equation as many influencing factors as possible, such as:\n",
    "\n",
    "- *Job Title:* Different professions earn different rates of income.\n",
    "- *Years of Experience:* It is senseless to compare a senior with a junior within a profession\n",
    "- *Education:* Education level plays a huge impact on the revenue.\n",
    "- *Country of Residence:* A carpenter will earn different rates in different countries.\n",
    "- *Hours worked:* More hours spent on the job earns a higher salary.\n",
    "\n",
    "We will not debate whether income inequality is legitimate, as this topic is much more complex and implicates a lot of nuances. Instead, we will focus on exploring analytics about our data for gender categories. Our hypothesis is that, **without enough data we can not enforce assumptions**, even so in high deviation cases, as we suspect that there are not enough samples.\n",
    "\n",
    "Regarding the strategy for calculating gender pay gap, we will use the following formula:\n",
    "$$ Pag Gap = {MedianSalary(Men) - MedianSalary(Women) \\over MedianSalary(Men)} * 100 $$"
   ],
   "id": "24ca8166a57c91c"
  },
  {
   "metadata": {},
   "cell_type": "code",
   "source": [
    "import pandas as pd\n",
    "import seaborn as sns\n",
    "import matplotlib.pyplot as plt\n",
    "\n",
    "# Data Cleaning\n",
    "data = sjtc.dropna(subset=['Gender', 'Salary', 'Job', 'Years of Experience', 'Education'])\n",
    "\n",
    "# Filter out 'Other' gender category\n",
    "data = data[data['Gender'] != 'other']\n",
    "\n",
    "# Group by Profession and Gender\n",
    "avg_salary_by_job = data.groupby(['Job', 'Gender'])['Salary'].mean().unstack('Gender').dropna()\n",
    "\n",
    "# Calculate pay gap where there is information about both\n",
    "avg_salary_by_job['Pay Gap'] = ((avg_salary_by_job['male'] - avg_salary_by_job['female']) / avg_salary_by_job['male']) * 100.0\n",
    "\n",
    "# Merge the pay gap back into the original dataframe\n",
    "data = data.merge(avg_salary_by_job['Pay Gap'], on='Job', how='left')\n",
    "\n",
    "# Create new variable that will be plotted\n",
    "gender_pay_gap = data.groupby('Job')['Pay Gap'].mean().dropna()\n",
    "\n",
    "# Average Pay Gap by Job Title\n",
    "fig, ax = plt.subplots(figsize=(12, 4))\n",
    "sns.barplot(ax=ax, x=gender_pay_gap.index, y=gender_pay_gap.values,\n",
    "            hue=gender_pay_gap.index, palette='muted', width=1.2)\n",
    "plt.xlabel('Jobs')\n",
    "plt.ylabel('Pay Gap (%)')\n",
    "plt.xticks(rotation=45, ha='right', fontsize=3)\n",
    "plt.title('Gender pay gap by profession')\n",
    "plt.show()\n",
    "\n",
    "del avg_salary_by_job, gender_pay_gap"
   ],
   "id": "8ebaa3d1c6b3db95",
   "outputs": [],
   "execution_count": null
  },
  {
   "metadata": {},
   "cell_type": "markdown",
   "source": [
    "In the diagram above each bar corresponds to a profession, while the value represents how much higher salaries do men earn than women, expressed in percentages. Negative values signify, that women tend to earn more in that profession.\n",
    "\n",
    "Strategic alterations were made, to compensate for the lack of data in each category. Therefore, numerical categories, such as years of experience, were ignore, as even when grouped by 10 years, there were not enough samples in each group, furthermore, groups by 10 are already biased, as years of experience shows a high deviation for revenue.\n",
    "\n",
    "By taking out influencing factors mentioned above, the dataset was segmented into such small groups that there are not enough samples to make a statistically accurate estimation. Picking less and smaller segments inevitable leads to biases, and therefore incorrect conclusions. Even while having enough data to group people by one variable, further groupings will lead to sparse categories, sensitive to high deviations."
   ],
   "id": "fabcf4fb03d704f"
  },
  {
   "metadata": {},
   "cell_type": "code",
   "source": [
    "# Education for both man and women normalized\n",
    "edu_counts = data.groupby(['Education', 'Gender']).size().unstack()\n",
    "\n",
    "# Normalize for the total amount of survey entries.\n",
    "edu_counts['female'] = edu_counts['female'] / edu_counts['female'].sum()\n",
    "edu_counts['male'] = edu_counts['male'] / edu_counts['male'].sum()\n",
    "\n",
    "# Plot Quantity of Men and Women with Different Degrees\n",
    "edu_counts.plot(kind='bar', stacked=True, color=['red', 'blue'], figsize=(10, 4))\n",
    "plt.title('Percentage of men and women with highest education')\n",
    "plt.ylabel('Count')\n",
    "plt.xticks(rotation=45)\n",
    "plt.legend(title='Gender')\n",
    "plt.tight_layout()\n",
    "plt.show()\n",
    "\n",
    "del edu_counts"
   ],
   "id": "72e66d2b2ea8462f",
   "outputs": [],
   "execution_count": null
  },
  {
   "metadata": {},
   "cell_type": "markdown",
   "source": [
    "The above diagram derives from the bar char *Count by Education*, and shows the proportion of men and women at each education level. The values were normalized with the total amount of men, therefore it accurately shows the proportions of man and women tendencies, disregarding the total number of men and women that have taken the survey. This means, that the total area of red and blue rectangles is equal.\n",
    "\n",
    "The bar plot shows, that in total there are as many females with at least Master's degree as are men, but more men pursue a PhD degree. But women are underrepresented in higher education altogether. This discovery might be one reason why men tend to have higher salaries than women, as we have previously seen, literacy and salary has a high correlation."
   ],
   "id": "d79fd4089ad8f2b1"
  },
  {
   "metadata": {},
   "cell_type": "markdown",
   "source": [
    "---\n",
    "\n",
    "To identify the professions with the best career advancement opportunities we will use **linear regression** to infer the function between years of experience and salary. Then computing the **area under the linear regression line** for each profession, we may determine what professions offer the highest net worth.\n",
    "\n",
    "This conjecture does not take into account that *some professions require an additional background*. For example, a CEO constitutes as a high earning profession title, but it requires previous career advancement in another profession, in leadership, multiple degrees, or previous *entrepreneurship*."
   ],
   "id": "ed3829b6bd62ded2"
  },
  {
   "metadata": {},
   "cell_type": "code",
   "source": [
    "import numpy as np\n",
    "from sklearn.linear_model import LinearRegression\n",
    "\n",
    "\n",
    "\n",
    "# Calculate regression for each profession\n",
    "areas = []\n",
    "models = {}\n",
    "\n",
    "# Career years\n",
    "years = 35\n",
    "\n",
    "for job in data['Job'].unique():\n",
    "    subset = data[data['Job'] == job]\n",
    "    X = subset[['Years of Experience']]\n",
    "    y = subset['Salary']\n",
    "    \n",
    "    if len(X) > 5:  # Ensure sufficient data points for regression\n",
    "        model = LinearRegression().fit(X, y)\n",
    "        salary_start = model.predict(pd.DataFrame([[0]], columns=['Years of Experience']))[0]\n",
    "        salary_end = model.predict(pd.DataFrame([[years]], columns=['Years of Experience']))[0]\n",
    "        area = (salary_start + salary_end) * years / 2\n",
    "        areas.append((job, area, model.coef_[0], salary_start, salary_end))\n",
    "        models[job] = model\n",
    "\n",
    "# Select top 6 professions by area\n",
    "top_areas = sorted(areas, key=lambda x: x[1], reverse=True)[:6]\n",
    "\n",
    "# Plot regression lines for top professions\n",
    "plt.figure(figsize=(12, 5))\n",
    "for job, _, slope, salary_start, salary_end in top_areas:\n",
    "    X_line = np.array([[0], [years]])\n",
    "    y_line = models[job].predict(X_line)\n",
    "    plt.plot([0, years], y_line, label=f'{job} (Slope: {slope:.2f})')\n",
    "\n",
    "plt.title('Top 6 Professions with Best Career Advancement Opportunities')\n",
    "plt.xlabel('Years of Experience')\n",
    "plt.ylabel('Salary')\n",
    "plt.legend()\n",
    "plt.grid()\n",
    "plt.show()\n",
    "\n",
    "# Delete variables unused\n",
    "del areas, models, top_areas"
   ],
   "id": "a0afc069fdc46ca0",
   "outputs": [],
   "execution_count": null
  },
  {
   "metadata": {},
   "cell_type": "markdown",
   "source": [
    "Steepest Salary Growth: Software Engineers have the highest salary growth rate with experience, as indicated by their steepest slope. This suggests that as a Software Engineer gains experience, their salary increases significantly.\n",
    "\n",
    "As we try to fit the linear regression on to the data points, we can witness inconsistencies, regarding how high do advancements go. In reality starts to diminish, as high paying positions grow scarce, so do career advancement opportunities, therefore it stagnates after 10 to 15 years, growing at a much slower rate.\n",
    "\n",
    "As we have previously noted, almost all positions require additional background, therefore assuming 35 years of experience in the field is a stretch."
   ],
   "id": "1e159d607ee3b64d"
  },
  {
   "metadata": {},
   "cell_type": "markdown",
   "source": [
    "### Toughs on EDA\n",
    "\n",
    "During the *Exploratory Data Analysis* (EDA) process, biases can arise from personal beliefs, cognitive shortcuts, or methodological oversight. But, while EDA itself does not inherently eliminate bias, its iterative and transparent nature can help reduce its influence of subjective factors when used openly, without prejudice. \n",
    "\n",
    "Even people with high *Numeracy scores*, that means high math reasoning skills, shows statistical bias towards paradigms. It was newly discovered, that one reason this might occur is due to our biological drive to fit into our community, rejecting the community's common belief is not logical. Consequently, such favoritism is strictly rational. \n",
    "\n",
    "A popular study conducted on this subject (Danm et al, 2017), proves that even people with high numeracy scores, fail to deduct unfavorable conclusions, even if they are presented with reliable empirical data.\n",
    "\n",
    "[Dan M. Kahan, et al., *Motivated Numeracy and Enlightened Self-Government*, Cambridge University Press, 2017](https://www.cambridge.org/core/journals/behavioural-public-policy/article/abs/motivated-numeracy-and-enlightened-selfgovernment/EC9F2410D5562EF10B7A5E2539063806)"
   ],
   "id": "e784a4a50d0fbebb"
  },
  {
   "metadata": {},
   "cell_type": "markdown",
   "source": [
    "# Confirmatory Data Analysys\n",
    "\n",
    "**Confirmatory Data Analysis** (CDA) is a statistical approach focused on *testing* specific hypotheses or *validating* assumptions about data using formal inferential techniques. Unlike Exploratory Data Analysis (EDA), which is open-ended and aimed at discovering patterns, CDA is structured and involves statistical tests like t-tests, chi-square tests, and regression analysis to confirm or refute predefined hypotheses. CDA helps quantify relationships, measure effects, and make data-driven conclusions with a higher degree of certainty by applying rigorous statistical rules.\n",
    "\n",
    "| Aspect | EDA | CDA |\n",
    "| - | - | - |\n",
    "| Purpose | Discover patterns, relationships, and anomalies. | Test specific hypotheses or validate assumptions. |\n",
    "| Approach | Open-ended, flexible, and visual. | Structured, formal, and statistical. |\n",
    "| Tools Used | Visualization tools, summary statistics. | Hypothesis testing, confidence intervals, regression. |\n",
    "| Output | Insights and questions for further investigation. | Evidence-based conclusions about data relationships. |\n",
    "\n",
    "EDA and CDA are **complementary techniques**. EDA serves as a precursor to CDA, helping researchers explore the data, formulate hypotheses, and identify key variables for focused analysis. CDA then rigorously tests these hypotheses using statistical methods. For instance, in a study on customer behavior, EDA might reveal a potential relationship between age and purchase frequency. CDA would then test this relationship to determine if it holds statistically. Together, EDA and CDA ensure a robust data analysis pipeline by balancing creativity and rigor."
   ],
   "id": "8f047844a93128ec"
  },
  {
   "metadata": {},
   "cell_type": "markdown",
   "source": [
    "*Countries of the World* (CW) dataset offers information about countries such as GPD, while *Global Data Salary* (GDS) records salary statistics in different countries. A scatterplot not only will allow us to visualize the correlation between the two variables, but also show any outliers.\n",
    "\n",
    "As discussed previously, **Economic productivity** dictates that higher GPD per capita means more skilled and productive workers. Consequently, it is sensible to say, that this often translates into higher wages."
   ],
   "id": "99453d3ca4f592a6"
  },
  {
   "metadata": {},
   "cell_type": "code",
   "source": [
    "import numpy as np\n",
    "\n",
    "# Merge datasets on 'Country'\n",
    "merged_df = pd.merge(cw, gsd, on='Country', how='inner')\n",
    "\n",
    "# Log-transform GDP per capita and Median Salary (optional)\n",
    "merged_df['Log GDP per capita'] = np.log(merged_df['GDP per capita'])\n",
    "merged_df['Log Median Salary'] = np.log(merged_df['Median'])\n",
    "\n",
    "# Filter relevant columns\n",
    "merged_df = merged_df[['Country', 'Continent', 'GDP per capita', 'Median']]\n",
    "\n",
    "# Drop rows with missing values\n",
    "merged_df = merged_df.dropna()\n",
    "\n",
    "# Group data by continent\n",
    "continents = merged_df['Continent'].unique()\n",
    "\n",
    "# Create 6 separate scatter plots\n",
    "plt.figure(figsize=(16, 11))\n",
    "\n",
    "for i, continent in enumerate(continents[:6], 1):  # Limit to first 6 groups if more exist\n",
    "    subset = merged_df[merged_df['Continent'] == continent]\n",
    "    \n",
    "    plt.subplot(3, 2, i)  # Create a grid of 2 rows, 3 columns\n",
    "    sns.scatterplot(\n",
    "        data=subset, \n",
    "        x='GDP per capita', \n",
    "        y='Median',\n",
    "        hue='Country',\n",
    "        palette='viridis',\n",
    "        legend=False\n",
    "    )\n",
    "    sns.regplot(\n",
    "        data=subset,\n",
    "        x='GDP per capita',\n",
    "        y='Median',\n",
    "        scatter=False, \n",
    "        color='red'\n",
    "    )\n",
    "    plt.title(f'Correlation in {continent}')\n",
    "    plt.xlabel('GDP per Capita')\n",
    "    plt.ylabel('Median Salary')\n",
    "\n",
    "plt.tight_layout()\n",
    "plt.show()\n",
    "\n",
    "del merged_df, continents"
   ],
   "id": "1b6f214ace039069",
   "outputs": [],
   "execution_count": null
  },
  {
   "metadata": {},
   "cell_type": "markdown",
   "source": [
    "Országok GDP és fizetés összefüggéseit szeretnénk megmérni. A kovetkező feltételezéseket igazságtartalmát szertnénk megvizsgálni:\n",
    "- Minnél gyorsabban nő egy ország GPD-je (GPD groth rate) annál nagyobb a jövedelem egyenlőtlenség normája. A jövedelem normáját vesszük, mert el szeretnénk tekinteni az ország gazdaságától, ami kapcsolatban áll a fizetéssel.\n",
    "- Minnél kisebbek az adók, annál nagyobb az egy főre juto GPD érték. Egy korelációt próbálunk felfedezni az egy főre juto GDP és az adó százalék között.\n",
    "- Az egy főre jutó GPD egyenesen arányos az átlagfizetéssel. "
   ],
   "id": "77232a8ac640102a"
  }
 ],
 "metadata": {
  "kernelspec": {
   "display_name": "Python 3",
   "language": "python",
   "name": "python3"
  },
  "language_info": {
   "codemirror_mode": {
    "name": "ipython",
    "version": 2
   },
   "file_extension": ".py",
   "mimetype": "text/x-python",
   "name": "python",
   "nbconvert_exporter": "python",
   "pygments_lexer": "ipython2",
   "version": "2.7.6"
  }
 },
 "nbformat": 4,
 "nbformat_minor": 5
}
